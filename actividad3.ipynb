{
  "cells": [
    {
      "cell_type": "markdown",
      "id": "5f8f007d-7de6-4622-aa5d-3e2ed5210ac7",
      "metadata": {
        "id": "5f8f007d-7de6-4622-aa5d-3e2ed5210ac7"
      },
      "source": [
        "_Técnicas de Aprendizaje Automático_\n",
        "\n",
        "_Máster Universitario en Inteligencia Artificial_\n",
        "\n",
        "# Caso Grupal: Clasificación de mensajes de odio\n",
        "\n",
        "## Objetivos\n",
        "\n",
        "Mediante este trabajo se pretende que el estudiante ponga en práctica la aplicación de un proceso completo de machine learning a la clasificación de mensajes de odio.\n",
        "\n",
        "El objetivo es generar un proyecto completo de machine learning para clasificar mensajes de odio. Debe detallar los pasos que hay que realizar para la clasificación de mensajes, así como una evaluación de los resultados.\n",
        "\n",
        "- Decidir la técnica de aprendizaje automático a utilizar\n",
        "- Analizar diferentes modelos de aprendizaje supervisado para la clasificación de mensajes de odio.\n",
        "- Evaluar los resultados obtenidos por cada modelo en términos de precisión, recall, y f1.\n",
        "\n",
        "## Descripción de la actividad\n",
        "\n",
        "La empresa SureTech Innovations quiere implementar un clasificador de mensajes de odio. Para ello se deben entrenar diferentes modelos de clasificación, evaluar el rendimiento de cada uno de ellos, y finalmente, decidir cuál sería el mejor.\n",
        "\n",
        "Para llevar a cabo esta actividad cuentas con el dataset simplificado de HateSpeech en la siguiente URL: https://github.com/almudenaris/TAA/blob/main/out.csv\n",
        "\n",
        "Los pasos que se deben seguir para desarrollar esta actividad son:\n",
        "\n",
        "1.\t¿Qué tarea de aprendizaje automático se pretende resolver? ¿Qué análisis previos serían necesarios realizar para saber si es posible construir el modelo que buscamos? Realiza un análisis exploratorio de datos adecuado a la tarea que se pretende resolver y al dataset facilitado. Explica con detalle, en base a la tarea que se quiere resolver, qué análisis serían necesarios realizar sobre los datos.\n",
        "\n",
        "2.\tEn base a la tarea que se pide realizar y a las características del dataset decide qué algoritmo o algoritmos se deben utilizar. Implementa tres modelos. Realiza los entrenamientos necesarios para cada uno de ellos. Explica por qué son convenientes los algoritmos elegidos.\n",
        "\n",
        "3.\tRealiza una explicación de las métricas de evaluación que se deben utilizar para valorar la bondad del modelo. Justifica la decisión de las elegidas. ¿Cómo habría que evaluar el modelo? Evalúa los modelos entrenados en el punto anterior y explica los resultados obtenidos.\n",
        "\n",
        "\n",
        "## Dataset\n",
        "\n",
        "El dataset original proporcionado en el proyecto transversal ha sido adaptado para la realización de esta actividad. Esa adaptación ha incluido:\n",
        "\n",
        "- Eliminación de nulos y duplicados\n",
        "- Eliminación de URLs, emojis y menciones a los periódicos\n",
        "- Eliminación de filas vacías\n",
        "- Limpieza y homogeneización de datos.\n",
        "    - Convertir la totalidad del texto a minúscula\n",
        "    - Eliminar signos de puntuación\n",
        "    - Eliminar números\n",
        "    - Eliminar espacios en blanco adicionales\n",
        "    - Eliminar palabras con longitud menor a 2 caracteres\n",
        "    - Eliminar stopwords\n",
        "    - Tokenización\n",
        "    - Lematización\n",
        "- Proceso de extracción de características\n",
        "    - Conteo de palabras positivas (A)\n",
        "    - Conteo de palabras negativas (B)\n",
        "    - Conteo del número de bigrams más comunes (C)\n",
        "    - Conteo del número de menciones a otros usuarios (D)\n",
        "    - Categoría del sentimiento según librería ‘pysentimiento’ en español (E)\n",
        "\n",
        "- Estandarización de las características (A_t,..E_t)\n",
        "- Combinación de características f1*fi (iA..iE) (Valor1,..Valor10)."
      ]
    },
    {
      "cell_type": "markdown",
      "id": "60bf0f82-8971-45de-9797-7d55b62f5ede",
      "metadata": {
        "id": "60bf0f82-8971-45de-9797-7d55b62f5ede"
      },
      "source": [
        "## EDA"
      ]
    },
    {
      "cell_type": "code",
      "execution_count": null,
      "id": "e80d286b-af9d-4e4c-bdd3-0ee3fafa0e74",
      "metadata": {
        "id": "e80d286b-af9d-4e4c-bdd3-0ee3fafa0e74"
      },
      "outputs": [],
      "source": [
        "# coloca tu código y respuestas del punto 1 en esta sección"
      ]
    },
    {
      "cell_type": "code",
      "execution_count": null,
      "id": "1502a127-dd9b-44ee-9893-8b18e8b79501",
      "metadata": {
        "id": "1502a127-dd9b-44ee-9893-8b18e8b79501"
      },
      "outputs": [],
      "source": []
    },
    {
      "cell_type": "code",
      "execution_count": null,
      "id": "1026a6f9-b6c3-4184-87e0-6135413d4371",
      "metadata": {
        "id": "1026a6f9-b6c3-4184-87e0-6135413d4371"
      },
      "outputs": [],
      "source": []
    },
    {
      "cell_type": "markdown",
      "id": "105e97be-3cca-4981-ab87-e953254433c7",
      "metadata": {
        "id": "105e97be-3cca-4981-ab87-e953254433c7"
      },
      "source": [
        "## SELECCIÓN Y ENTRENAMIENTO DE LOS MODELOS"
      ]
    },
    {
      "cell_type": "code",
      "execution_count": null,
      "id": "3cbb27f2-7e77-4faa-907c-e2356f4f17b2",
      "metadata": {
        "id": "3cbb27f2-7e77-4faa-907c-e2356f4f17b2"
      },
      "outputs": [],
      "source": [
        "# coloca tu código y respuestas del punto 2 en esta sección"
      ]
    },
    {
      "cell_type": "code",
      "execution_count": null,
      "id": "277d1df6-2bad-4398-aa05-be298766989c",
      "metadata": {
        "id": "277d1df6-2bad-4398-aa05-be298766989c"
      },
      "outputs": [],
      "source": []
    },
    {
      "cell_type": "code",
      "execution_count": null,
      "id": "630149b4-4898-4727-9caa-d2d850777941",
      "metadata": {
        "id": "630149b4-4898-4727-9caa-d2d850777941"
      },
      "outputs": [],
      "source": []
    },
    {
      "cell_type": "markdown",
      "id": "a8950b08-3342-444b-a4bf-bb06d2052562",
      "metadata": {
        "id": "a8950b08-3342-444b-a4bf-bb06d2052562"
      },
      "source": [
        "## EVALUACIÓN DE LOS MODELOS Y COMPARATIVA"
      ]
    },
    {
      "cell_type": "code",
      "execution_count": null,
      "id": "08dc13bb-7400-4eed-b9f3-b7ed914cf9df",
      "metadata": {
        "id": "08dc13bb-7400-4eed-b9f3-b7ed914cf9df"
      },
      "outputs": [],
      "source": [
        "# coloca tu código y respuestas del punto 3 en esta sección"
      ]
    },
    {
      "cell_type": "code",
      "execution_count": null,
      "id": "4ac31c2a-8137-40fa-b8a2-46a3378cc9b1",
      "metadata": {
        "id": "4ac31c2a-8137-40fa-b8a2-46a3378cc9b1"
      },
      "outputs": [],
      "source": []
    }
  ],
  "metadata": {
    "kernelspec": {
      "display_name": "Python 3 (ipykernel)",
      "language": "python",
      "name": "python3"
    },
    "language_info": {
      "codemirror_mode": {
        "name": "ipython",
        "version": 3
      },
      "file_extension": ".py",
      "mimetype": "text/x-python",
      "name": "python",
      "nbconvert_exporter": "python",
      "pygments_lexer": "ipython3",
      "version": "3.8.18"
    },
    "colab": {
      "provenance": []
    }
  },
  "nbformat": 4,
  "nbformat_minor": 5
}